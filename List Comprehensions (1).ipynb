{
 "cells": [
  {
   "cell_type": "markdown",
   "metadata": {},
   "source": [
    "# List Comprehensions: Matrices\n",
    "\n",
    "**_Summary_**\n",
    "\n",
    "This little Jupyter Notebook includes my brief dabbling with various list comprehension/manipulation techniques, with a focus on 2D numerical matrices. Python is really great for manipulating and computing on datasets. In this case, we will be utilizing Python's nested list capabilitiy to create a 2D (3x3) matrix of numbers.\n",
    "\n",
    "**_The Matrix_**"
   ]
  },
  {
   "cell_type": "code",
   "execution_count": 1,
   "metadata": {},
   "outputs": [],
   "source": [
    "matrix = [[1,2,3], [4,5,6], [7,8,9]] # Nested list comprehensions"
   ]
  },
  {
   "cell_type": "markdown",
   "metadata": {},
   "source": [
    "The output:"
   ]
  },
  {
   "cell_type": "code",
   "execution_count": 2,
   "metadata": {},
   "outputs": [
    {
     "data": {
      "text/plain": [
       "[[1, 2, 3], [4, 5, 6], [7, 8, 9]]"
      ]
     },
     "execution_count": 2,
     "metadata": {},
     "output_type": "execute_result"
    }
   ],
   "source": [
    "matrix"
   ]
  },
  {
   "cell_type": "markdown",
   "metadata": {},
   "source": [
    "Here is the result in box form:\n",
    "\n",
    "    [1, 2, 3] \n",
    "    [4, 5, 6] \n",
    "    [7, 8, 9]\n",
    "    \n",
    "**_Transposition_**\n",
    "\n",
    "Transposing matrices is an important technique in matrix mathemtatics. It involves switching rows with columns and columns with rows. With Python, one can doing this very simply using the snippet of code below:"
   ]
  },
  {
   "cell_type": "code",
   "execution_count": 3,
   "metadata": {},
   "outputs": [],
   "source": [
    "t_matrix = [[row[x] for row in matrix] for x in range(len(matrix))] # Transposing a matrix"
   ]
  },
  {
   "cell_type": "markdown",
   "metadata": {},
   "source": [
    "The output:"
   ]
  },
  {
   "cell_type": "code",
   "execution_count": 4,
   "metadata": {},
   "outputs": [
    {
     "data": {
      "text/plain": [
       "[[1, 4, 7], [2, 5, 8], [3, 6, 9]]"
      ]
     },
     "execution_count": 4,
     "metadata": {},
     "output_type": "execute_result"
    }
   ],
   "source": [
    "t_matrix"
   ]
  },
  {
   "cell_type": "markdown",
   "metadata": {},
   "source": [
    "As you can see from the above output, the rows and columns have swapped.\n",
    "\n",
    "**_The Zip Function_**\n",
    "\n",
    "Another neat manipulation that we can perform is the zip() function. This function pairs elements from two lists together in--mathematical terms--a billinear way."
   ]
  },
  {
   "cell_type": "code",
   "execution_count": 5,
   "metadata": {},
   "outputs": [],
   "source": [
    "z_matrix = list(zip(matrix, t_matrix)) # Pairing transposed row(s) with original row(s)"
   ]
  },
  {
   "cell_type": "markdown",
   "metadata": {},
   "source": [
    "The output:"
   ]
  },
  {
   "cell_type": "code",
   "execution_count": 6,
   "metadata": {},
   "outputs": [
    {
     "data": {
      "text/plain": [
       "[([1, 2, 3], [1, 4, 7]), ([4, 5, 6], [2, 5, 8]), ([7, 8, 9], [3, 6, 9])]"
      ]
     },
     "execution_count": 6,
     "metadata": {},
     "output_type": "execute_result"
    }
   ],
   "source": [
    "z_matrix"
   ]
  },
  {
   "cell_type": "markdown",
   "metadata": {},
   "source": [
    "In this case above, we are pairing the previous row with the transposed row."
   ]
  },
  {
   "cell_type": "markdown",
   "metadata": {},
   "source": [
    "**_Conclusion_**\n",
    "\n",
    "So, we've explored a little bit of Python's list comprehension. We were able to play around with matrices and the tools used to manipulate them. Where this gets challenging is when one has a larger matrix or dataset. Python handles large datasets really well however. Hopefully this was helpful and/or interesting!"
   ]
  },
  {
   "cell_type": "code",
   "execution_count": null,
   "metadata": {},
   "outputs": [],
   "source": []
  }
 ],
 "metadata": {
  "kernelspec": {
   "display_name": "Python 3",
   "language": "python",
   "name": "python3"
  },
  "language_info": {
   "codemirror_mode": {
    "name": "ipython",
    "version": 3
   },
   "file_extension": ".py",
   "mimetype": "text/x-python",
   "name": "python",
   "nbconvert_exporter": "python",
   "pygments_lexer": "ipython3",
   "version": "3.8.1"
  }
 },
 "nbformat": 4,
 "nbformat_minor": 4
}
